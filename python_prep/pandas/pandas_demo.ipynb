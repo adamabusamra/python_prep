{
 "cells": [
  {
   "cell_type": "code",
   "execution_count": 3,
   "metadata": {},
   "outputs": [],
   "source": [
    "import pandas as pd"
   ]
  },
  {
   "cell_type": "code",
   "execution_count": 4,
   "metadata": {},
   "outputs": [],
   "source": [
    "df = pd.read_csv('data.csv')"
   ]
  },
  {
   "cell_type": "code",
   "execution_count": null,
   "metadata": {
    "scrolled": false
   },
   "outputs": [],
   "source": []
  },
  {
   "cell_type": "code",
   "execution_count": 5,
   "metadata": {},
   "outputs": [
    {
     "data": {
      "text/plain": [
       "(733, 7)"
      ]
     },
     "execution_count": 5,
     "metadata": {},
     "output_type": "execute_result"
    }
   ],
   "source": [
    "df.shape"
   ]
  },
  {
   "cell_type": "code",
   "execution_count": 6,
   "metadata": {},
   "outputs": [
    {
     "name": "stdout",
     "output_type": "stream",
     "text": [
      "<class 'pandas.core.frame.DataFrame'>\n",
      "RangeIndex: 733 entries, 0 to 732\n",
      "Data columns (total 7 columns):\n",
      " #   Column       Non-Null Count  Dtype \n",
      "---  ------       --------------  ----- \n",
      " 0   API          733 non-null    object\n",
      " 1   Auth         397 non-null    object\n",
      " 2   Category     733 non-null    object\n",
      " 3   Cors         733 non-null    object\n",
      " 4   Description  733 non-null    object\n",
      " 5   HTTPS        733 non-null    bool  \n",
      " 6   Link         733 non-null    object\n",
      "dtypes: bool(1), object(6)\n",
      "memory usage: 35.2+ KB\n"
     ]
    }
   ],
   "source": [
    "df.info()"
   ]
  },
  {
   "cell_type": "code",
   "execution_count": 9,
   "metadata": {},
   "outputs": [],
   "source": [
    "pd.set_option('display.max_rows',100)"
   ]
  },
  {
   "cell_type": "code",
   "execution_count": 10,
   "metadata": {},
   "outputs": [
    {
     "data": {
      "text/html": [
       "<div>\n",
       "<style scoped>\n",
       "    .dataframe tbody tr th:only-of-type {\n",
       "        vertical-align: middle;\n",
       "    }\n",
       "\n",
       "    .dataframe tbody tr th {\n",
       "        vertical-align: top;\n",
       "    }\n",
       "\n",
       "    .dataframe thead th {\n",
       "        text-align: right;\n",
       "    }\n",
       "</style>\n",
       "<table border=\"1\" class=\"dataframe\">\n",
       "  <thead>\n",
       "    <tr style=\"text-align: right;\">\n",
       "      <th></th>\n",
       "      <th>API</th>\n",
       "      <th>Auth</th>\n",
       "      <th>Category</th>\n",
       "      <th>Cors</th>\n",
       "      <th>Description</th>\n",
       "      <th>HTTPS</th>\n",
       "      <th>Link</th>\n",
       "    </tr>\n",
       "  </thead>\n",
       "  <tbody>\n",
       "    <tr>\n",
       "      <th>0</th>\n",
       "      <td>Cat Facts</td>\n",
       "      <td>NaN</td>\n",
       "      <td>Animals</td>\n",
       "      <td>no</td>\n",
       "      <td>Daily cat facts</td>\n",
       "      <td>True</td>\n",
       "      <td>https://alexwohlbruck.github.io/cat-facts/</td>\n",
       "    </tr>\n",
       "    <tr>\n",
       "      <th>1</th>\n",
       "      <td>catAPI</td>\n",
       "      <td>NaN</td>\n",
       "      <td>Animals</td>\n",
       "      <td>yes</td>\n",
       "      <td>Random pictures of cats</td>\n",
       "      <td>True</td>\n",
       "      <td>https://github.com/ThatCopy/catAPI/wiki/Usage</td>\n",
       "    </tr>\n",
       "    <tr>\n",
       "      <th>2</th>\n",
       "      <td>Cats</td>\n",
       "      <td>apiKey</td>\n",
       "      <td>Animals</td>\n",
       "      <td>unknown</td>\n",
       "      <td>Pictures of cats from Tumblr</td>\n",
       "      <td>True</td>\n",
       "      <td>https://docs.thecatapi.com/</td>\n",
       "    </tr>\n",
       "    <tr>\n",
       "      <th>3</th>\n",
       "      <td>Dog Facts</td>\n",
       "      <td>NaN</td>\n",
       "      <td>Animals</td>\n",
       "      <td>unknown</td>\n",
       "      <td>Random dog facts</td>\n",
       "      <td>True</td>\n",
       "      <td>https://dukengn.github.io/Dog-facts-API/</td>\n",
       "    </tr>\n",
       "    <tr>\n",
       "      <th>4</th>\n",
       "      <td>Dogs</td>\n",
       "      <td>NaN</td>\n",
       "      <td>Animals</td>\n",
       "      <td>yes</td>\n",
       "      <td>Based on the Stanford Dogs Dataset</td>\n",
       "      <td>True</td>\n",
       "      <td>https://dog.ceo/dog-api/</td>\n",
       "    </tr>\n",
       "    <tr>\n",
       "      <th>...</th>\n",
       "      <td>...</td>\n",
       "      <td>...</td>\n",
       "      <td>...</td>\n",
       "      <td>...</td>\n",
       "      <td>...</td>\n",
       "      <td>...</td>\n",
       "      <td>...</td>\n",
       "    </tr>\n",
       "    <tr>\n",
       "      <th>728</th>\n",
       "      <td>Storm Glass</td>\n",
       "      <td>apiKey</td>\n",
       "      <td>Weather</td>\n",
       "      <td>yes</td>\n",
       "      <td>Global marine weather from multiple sources</td>\n",
       "      <td>True</td>\n",
       "      <td>https://stormglass.io/</td>\n",
       "    </tr>\n",
       "    <tr>\n",
       "      <th>729</th>\n",
       "      <td>TheRainery</td>\n",
       "      <td>apiKey</td>\n",
       "      <td>Weather</td>\n",
       "      <td>no</td>\n",
       "      <td>Forecast models from meteorological institutes</td>\n",
       "      <td>True</td>\n",
       "      <td>https://therainery.com/documentation/</td>\n",
       "    </tr>\n",
       "    <tr>\n",
       "      <th>730</th>\n",
       "      <td>weather-api</td>\n",
       "      <td>NaN</td>\n",
       "      <td>Weather</td>\n",
       "      <td>no</td>\n",
       "      <td>A RESTful free API to check the weather</td>\n",
       "      <td>True</td>\n",
       "      <td>https://github.com/robertoduessmann/weather-api</td>\n",
       "    </tr>\n",
       "    <tr>\n",
       "      <th>731</th>\n",
       "      <td>Weatherbit</td>\n",
       "      <td>apiKey</td>\n",
       "      <td>Weather</td>\n",
       "      <td>unknown</td>\n",
       "      <td>Weather</td>\n",
       "      <td>True</td>\n",
       "      <td>https://www.weatherbit.io/api</td>\n",
       "    </tr>\n",
       "    <tr>\n",
       "      <th>732</th>\n",
       "      <td>weatherstack</td>\n",
       "      <td>apiKey</td>\n",
       "      <td>Weather</td>\n",
       "      <td>unknown</td>\n",
       "      <td>Real-Time &amp; Historical World Weather Data API</td>\n",
       "      <td>True</td>\n",
       "      <td>https://weatherstack.com/</td>\n",
       "    </tr>\n",
       "  </tbody>\n",
       "</table>\n",
       "<p>733 rows × 7 columns</p>\n",
       "</div>"
      ],
      "text/plain": [
       "              API    Auth Category     Cors  \\\n",
       "0       Cat Facts     NaN  Animals       no   \n",
       "1          catAPI     NaN  Animals      yes   \n",
       "2            Cats  apiKey  Animals  unknown   \n",
       "3       Dog Facts     NaN  Animals  unknown   \n",
       "4            Dogs     NaN  Animals      yes   \n",
       "..            ...     ...      ...      ...   \n",
       "728   Storm Glass  apiKey  Weather      yes   \n",
       "729    TheRainery  apiKey  Weather       no   \n",
       "730   weather-api     NaN  Weather       no   \n",
       "731    Weatherbit  apiKey  Weather  unknown   \n",
       "732  weatherstack  apiKey  Weather  unknown   \n",
       "\n",
       "                                        Description  HTTPS  \\\n",
       "0                                   Daily cat facts   True   \n",
       "1                           Random pictures of cats   True   \n",
       "2                      Pictures of cats from Tumblr   True   \n",
       "3                                  Random dog facts   True   \n",
       "4                Based on the Stanford Dogs Dataset   True   \n",
       "..                                              ...    ...   \n",
       "728     Global marine weather from multiple sources   True   \n",
       "729  Forecast models from meteorological institutes   True   \n",
       "730         A RESTful free API to check the weather   True   \n",
       "731                                         Weather   True   \n",
       "732   Real-Time & Historical World Weather Data API   True   \n",
       "\n",
       "                                                Link  \n",
       "0         https://alexwohlbruck.github.io/cat-facts/  \n",
       "1      https://github.com/ThatCopy/catAPI/wiki/Usage  \n",
       "2                        https://docs.thecatapi.com/  \n",
       "3           https://dukengn.github.io/Dog-facts-API/  \n",
       "4                           https://dog.ceo/dog-api/  \n",
       "..                                               ...  \n",
       "728                           https://stormglass.io/  \n",
       "729            https://therainery.com/documentation/  \n",
       "730  https://github.com/robertoduessmann/weather-api  \n",
       "731                    https://www.weatherbit.io/api  \n",
       "732                        https://weatherstack.com/  \n",
       "\n",
       "[733 rows x 7 columns]"
      ]
     },
     "execution_count": 10,
     "metadata": {},
     "output_type": "execute_result"
    }
   ],
   "source": [
    "df"
   ]
  },
  {
   "cell_type": "code",
   "execution_count": null,
   "metadata": {},
   "outputs": [],
   "source": []
  },
  {
   "cell_type": "code",
   "execution_count": null,
   "metadata": {},
   "outputs": [],
   "source": []
  }
 ],
 "metadata": {
  "kernelspec": {
   "display_name": "Python 3",
   "language": "python",
   "name": "python3"
  },
  "language_info": {
   "codemirror_mode": {
    "name": "ipython",
    "version": 3
   },
   "file_extension": ".py",
   "mimetype": "text/x-python",
   "name": "python",
   "nbconvert_exporter": "python",
   "pygments_lexer": "ipython3",
   "version": "3.8.5"
  }
 },
 "nbformat": 4,
 "nbformat_minor": 4
}
